{
 "cells": [
  {
   "cell_type": "markdown",
   "id": "95e1aa0d",
   "metadata": {},
   "source": [
    "# numpy array operations"
   ]
  },
  {
   "cell_type": "code",
   "execution_count": 5,
   "id": "3678e7bd",
   "metadata": {},
   "outputs": [],
   "source": [
    "import numpy as np"
   ]
  },
  {
   "cell_type": "code",
   "execution_count": 6,
   "id": "cada0d99",
   "metadata": {},
   "outputs": [
    {
     "name": "stdout",
     "output_type": "stream",
     "text": [
      "basic slicing [3 4 5 6 7]\n",
      "with steps [2 4 6 8]\n",
      "negative indexing 8\n"
     ]
    }
   ],
   "source": [
    "arr=np.array([1 ,2 ,3 ,4 , 5, 6, 7, 8 , 9 ,10])\n",
    "print(\"basic slicing\" ,arr[2:7])\n",
    "print(\"with steps\" ,arr[1:8:2])\n",
    "print(\"negative indexing\" , arr[-3])"
   ]
  },
  {
   "cell_type": "code",
   "execution_count": 7,
   "id": "9e28b12f",
   "metadata": {},
   "outputs": [
    {
     "name": "stdout",
     "output_type": "stream",
     "text": [
      "specific element 6\n",
      "specific row [4 5 6]\n",
      "specific column [2 5 8]\n"
     ]
    }
   ],
   "source": [
    "arr_2d = np.array([[1, 2, 3], \n",
    "                   [4, 5, 6], \n",
    "                   [7, 8, 9]])\n",
    "print(\"specific element\" , arr_2d[1, 2])\n",
    "print(\"specific row\" , arr_2d[1])\n",
    "print(\"specific column\" , arr_2d[:, 1])"
   ]
  },
  {
   "cell_type": "markdown",
   "id": "64263407",
   "metadata": {},
   "source": [
    "# sorting"
   ]
  },
  {
   "cell_type": "code",
   "execution_count": 8,
   "id": "f70ead0e",
   "metadata": {},
   "outputs": [
    {
     "name": "stdout",
     "output_type": "stream",
     "text": [
      "sorted array:\n",
      " [0 1 1 2 2 3 3 4 5 6 7 8 9]\n",
      "sorted 2d array coloumnwise;\n",
      " [[2 1 0]\n",
      " [3 1 2]\n",
      " [5 4 3]\n",
      " [6 5 4]\n",
      " [9 8 7]]\n",
      "sorted 2d array rowwise:\n",
      " [[1 2 3]\n",
      " [3 4 5]\n",
      " [0 1 2]\n",
      " [7 8 9]\n",
      " [4 5 6]]\n",
      "sorted 2d array:\n",
      " [0 1 1 2 2 3 3 4 4 5 5 6 7 8 9]\n"
     ]
    }
   ],
   "source": [
    "unsorted_arr = np.array([3, 1, 2, 5, 4 , 3 , 2, 1 , 0 , 9 , 8, 7, 6])\n",
    "print(\"sorted array:\\n\" , np.sort(unsorted_arr))\n",
    "\n",
    "unsorted_2d= np.array([[3, 1, 2],\n",
    "                       [5, 4, 3],\n",
    "                       [2, 1, 0],\n",
    "                       [9, 8, 7],\n",
    "                       [6, 5, 4]])\n",
    "print(\"sorted 2d array coloumnwise;\\n\" , np.sort(unsorted_2d, axis=0))\n",
    "print(\"sorted 2d array rowwise:\\n\" , np.sort(unsorted_2d, axis=1))\n",
    "print(\"sorted 2d array:\\n\" , np.sort(unsorted_2d, axis=None))"
   ]
  },
  {
   "cell_type": "markdown",
   "id": "4587408c",
   "metadata": {},
   "source": [
    "# filter\n"
   ]
  },
  {
   "cell_type": "code",
   "execution_count": 9,
   "id": "2ad15903",
   "metadata": {},
   "outputs": [
    {
     "name": "stdout",
     "output_type": "stream",
     "text": [
      "even numbers from array:\n",
      " [ 2  4  6  8 10]\n"
     ]
    }
   ],
   "source": [
    "num_arr = np.array([1, 2, 3, 4, 5 , 6, 7, 8, 9, 10])\n",
    "even_arr = num_arr[num_arr % 2 == 0]\n",
    "print(\"even numbers from array:\\n\" , even_arr)"
   ]
  },
  {
   "cell_type": "markdown",
   "id": "10bc5764",
   "metadata": {},
   "source": [
    "# filter by mask"
   ]
  },
  {
   "cell_type": "code",
   "execution_count": 10,
   "id": "34ee09ed",
   "metadata": {},
   "outputs": [
    {
     "name": "stdout",
     "output_type": "stream",
     "text": [
      "mask array:\n",
      " [False False False False False  True  True  True  True  True]\n",
      "masked array:\n",
      " [ 6  7  8  9 10]\n"
     ]
    }
   ],
   "source": [
    "mask=num_arr > 5\n",
    "print(\"mask array:\\n\" , mask)\n",
    "print(\"masked array:\\n\" , num_arr[mask])"
   ]
  },
  {
   "cell_type": "markdown",
   "id": "3d2b3f8b",
   "metadata": {},
   "source": [
    "# fancy indexing vs np.where()"
   ]
  },
  {
   "cell_type": "code",
   "execution_count": 11,
   "id": "b6744c5a",
   "metadata": {},
   "outputs": [
    {
     "name": "stdout",
     "output_type": "stream",
     "text": [
      "indices of masked array:\n",
      " [ 6  7  8  9 10]\n",
      "indices of masked array:\n",
      " (array([5, 6, 7, 8, 9]),)\n",
      "indices of masked array:\n",
      " (array([5, 6, 7, 8, 9]),)\n",
      "masked array:\n",
      " [ 6  7  8  9 10]\n"
     ]
    }
   ],
   "source": [
    "indices=num_arr > 5\n",
    "print(\"indices of masked array:\\n\" , num_arr[indices])\n",
    "print(\"indices of masked array:\\n\" , np.where(indices))\n",
    "\n",
    "print(\"indices of masked array:\\n\" , np.where(indices))\n",
    "where_indices = np.where(num_arr > 5)\n",
    "print(\"masked array:\\n\" , num_arr[where_indices])"
   ]
  },
  {
   "cell_type": "code",
   "execution_count": 12,
   "id": "54762850",
   "metadata": {},
   "outputs": [
    {
     "name": "stdout",
     "output_type": "stream",
     "text": [
      "conditional array:\n",
      " ['false' 'false' 'false' 'false' 'false' 'true' 'true' 'true' 'true'\n",
      " 'true']\n"
     ]
    }
   ],
   "source": [
    "conditional_arr=np.where(num_arr > 5, \"true\", \"false\")\n",
    "print(\"conditional array:\\n\" , conditional_arr)"
   ]
  },
  {
   "cell_type": "markdown",
   "id": "6ae8c812",
   "metadata": {},
   "source": [
    "# add and delete elements"
   ]
  },
  {
   "cell_type": "code",
   "execution_count": 13,
   "id": "2f4aa741",
   "metadata": {},
   "outputs": [
    {
     "name": "stdout",
     "output_type": "stream",
     "text": [
      "concatenated array:\n",
      " [ 1  2  3  4  5  6  7  8  9 10]\n"
     ]
    }
   ],
   "source": [
    "arr1 = np.array([1, 2, 3, 4, 5])\n",
    "arr2 = np.array([6, 7, 8, 9, 10])\n",
    "combined_arr = np.concatenate((arr1, arr2))\n",
    "print(\"concatenated array:\\n\" , combined_arr)"
   ]
  },
  {
   "cell_type": "markdown",
   "id": "f17b8eaa",
   "metadata": {},
   "source": [
    "# array comparitibility"
   ]
  },
  {
   "cell_type": "code",
   "execution_count": 14,
   "id": "84ca8048",
   "metadata": {},
   "outputs": [
    {
     "name": "stdout",
     "output_type": "stream",
     "text": [
      "array compatibility a , b:  False\n",
      "array compatibility a , c: True\n",
      "array compatibility b , c: False\n"
     ]
    }
   ],
   "source": [
    "a=np.array([1 , 2, 3])\n",
    "b=np.array([4 , 5, 6 , 9])\n",
    "c=np.array([7 , 8, 9])\n",
    "print(\"array compatibility a , b: \", a.shape==b.shape)\n",
    "print(\"array compatibility a , c:\", a.shape==c.shape)\n",
    "print(\"array compatibility b , c:\" ,b.shape==c.shape)"
   ]
  },
  {
   "cell_type": "markdown",
   "id": "e10f7f8a",
   "metadata": {},
   "source": [
    "# adding new row or column"
   ]
  },
  {
   "cell_type": "code",
   "execution_count": 16,
   "id": "9654e235",
   "metadata": {},
   "outputs": [
    {
     "name": "stdout",
     "output_type": "stream",
     "text": [
      "original:\n",
      " [[1 2]\n",
      " [3 4]]\n",
      "\n",
      "combined row:\n",
      " [[1 2]\n",
      " [3 4]\n",
      " [5 6]]\n",
      "combined column:\n",
      " [[1 2 7]\n",
      " [3 4 8]]\n"
     ]
    }
   ],
   "source": [
    "original=np.array([[1 , 2], [3 , 4]])\n",
    "new_row=np.array([[5 , 6]])\n",
    "combined_row=np.vstack((original, new_row))\n",
    "print(\"original:\\n\" , original)\n",
    "print()\n",
    "print(\"combined row:\\n\" , combined_row)\n",
    "\n",
    "new_col=np.array([[7], [8]])\n",
    "combined_col=np.hstack((original, new_col))\n",
    "print(\"combined column:\\n\" , combined_col)\n"
   ]
  },
  {
   "cell_type": "markdown",
   "id": "f3eba456",
   "metadata": {},
   "source": [
    "# delete elements"
   ]
  },
  {
   "cell_type": "code",
   "execution_count": 17,
   "id": "b79b7529",
   "metadata": {},
   "outputs": [
    {
     "name": "stdout",
     "output_type": "stream",
     "text": [
      "array after deletion:\n",
      " [1 2 4 5]\n"
     ]
    }
   ],
   "source": [
    "arr3=np.array([1 , 2, 3, 4, 5])\n",
    "deleted=np.delete(arr3, 2)\n",
    "print(\"array after deletion:\\n\" , deleted)"
   ]
  },
  {
   "cell_type": "code",
   "execution_count": null,
   "id": "15fde768",
   "metadata": {},
   "outputs": [],
   "source": []
  }
 ],
 "metadata": {
  "kernelspec": {
   "display_name": "Python 3",
   "language": "python",
   "name": "python3"
  },
  "language_info": {
   "codemirror_mode": {
    "name": "ipython",
    "version": 3
   },
   "file_extension": ".py",
   "mimetype": "text/x-python",
   "name": "python",
   "nbconvert_exporter": "python",
   "pygments_lexer": "ipython3",
   "version": "3.12.1"
  }
 },
 "nbformat": 4,
 "nbformat_minor": 5
}
